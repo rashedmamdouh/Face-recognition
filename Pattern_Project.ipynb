{
 "cells": [
  {
   "cell_type": "markdown",
   "metadata": {},
   "source": [
    "# Libraries #"
   ]
  },
  {
   "cell_type": "code",
   "execution_count": 1,
   "metadata": {},
   "outputs": [],
   "source": [
    "import numpy as np\n",
    "from numpy import linalg as LA\n",
    "import matplotlib.pyplot as plt\n",
    "import matplotlib.image as mpimg\n",
    "import cv2 as cv\n",
    "from sklearn.neighbors import KNeighborsClassifier as KNN\n",
    "from sklearn import metrics\n",
    "from sklearn.model_selection import train_test_split\n",
    "from sklearn.svm import SVC\n",
    "import warnings"
   ]
  },
  {
   "cell_type": "code",
   "execution_count": 2,
   "metadata": {},
   "outputs": [],
   "source": [
    "warnings.filterwarnings('ignore')"
   ]
  },
  {
   "cell_type": "markdown",
   "metadata": {},
   "source": [
    "# Read Data #"
   ]
  },
  {
   "cell_type": "code",
   "execution_count": 3,
   "metadata": {},
   "outputs": [],
   "source": [
    "img_matrix=np.zeros((400,10304))\n",
    "count = 0\n",
    "l = []\n",
    "for i in range(1,41):\n",
    "    for j in range(1,11):\n",
    "        img = cv.imread(f'data\\\\s{i}\\\\{j}.pgm',-1)\n",
    "        img = img.reshape(1,10304)\n",
    "        for k in range(10304):\n",
    "            img_matrix[count,k] =img[0][k] \n",
    "        count+=1"
   ]
  },
  {
   "cell_type": "code",
   "execution_count": 4,
   "metadata": {},
   "outputs": [
    {
     "data": {
      "text/plain": [
       "array([[ 48.,  49.,  45., ...,  47.,  46.,  46.],\n",
       "       [ 60.,  60.,  62., ...,  32.,  34.,  34.],\n",
       "       [ 39.,  44.,  53., ...,  29.,  26.,  29.],\n",
       "       ...,\n",
       "       [125., 119., 124., ...,  36.,  39.,  40.],\n",
       "       [119., 120., 120., ...,  89.,  94.,  85.],\n",
       "       [125., 124., 124., ...,  36.,  35.,  34.]])"
      ]
     },
     "execution_count": 4,
     "metadata": {},
     "output_type": "execute_result"
    }
   ],
   "source": [
    "img_matrix"
   ]
  },
  {
   "cell_type": "markdown",
   "metadata": {},
   "source": [
    "# Split Data and create splitted labels #"
   ]
  },
  {
   "cell_type": "code",
   "execution_count": 5,
   "metadata": {},
   "outputs": [],
   "source": [
    "count = 0\n",
    "l=[]\n",
    "for i in range(1,41):\n",
    "    for j in range(1,6):\n",
    "        l.append('s'+str(i))\n",
    "# label_matrix = np.array(l).reshape(400,1)\n",
    "train_label = np.array(l).reshape(200,1)\n",
    "test_label = np.array(l).reshape(200,1)"
   ]
  },
  {
   "cell_type": "code",
   "execution_count": 6,
   "metadata": {},
   "outputs": [],
   "source": [
    "test_img = np.empty((200,10304))\n",
    "train_img = np.empty((200,10304))\n",
    "#test[even split]\n",
    "count = 0\n",
    "for i in range(0,400,2):\n",
    "    for k in range(10304):\n",
    "        test_img[count,k] = img_matrix[i,k]\n",
    "    count+=1\n",
    "#train[odd split]\n",
    "count = 0\n",
    "for i in range(1,400,2):\n",
    "    for k in range(10304):\n",
    "        train_img[count,k] = img_matrix[i,k]\n",
    "    count+=1"
   ]
  },
  {
   "cell_type": "code",
   "execution_count": 7,
   "metadata": {},
   "outputs": [
    {
     "data": {
      "text/plain": [
       "(200, 10304)"
      ]
     },
     "execution_count": 7,
     "metadata": {},
     "output_type": "execute_result"
    }
   ],
   "source": [
    "train_img.shape"
   ]
  },
  {
   "cell_type": "markdown",
   "metadata": {},
   "source": [
    "### eigenvalues are sorted in descending order to provide a ranking of the components or axes of the new subspace for matrix A. If there are eigenvalues close to zero, they represent components that may be discarded ###"
   ]
  },
  {
   "cell_type": "code",
   "execution_count": 8,
   "metadata": {},
   "outputs": [],
   "source": [
    "alpha = [0.8 , 0.85 , 0.9 , 0.95]"
   ]
  },
  {
   "cell_type": "code",
   "execution_count": 9,
   "metadata": {},
   "outputs": [],
   "source": [
    "def comp_Dims(eigVal,threshold):\n",
    "    totalDataVariance=np.sum(eigVal)\n",
    "    varianceFraction,numDim,eigValSum=0,1,0\n",
    "    while(varianceFraction<threshold):\n",
    "        eigValSum+=eigVal[numDim-1]\n",
    "        varianceFraction=eigValSum/totalDataVariance\n",
    "        numDim+=1\n",
    "    return numDim"
   ]
  },
  {
   "cell_type": "code",
   "execution_count": 10,
   "metadata": {},
   "outputs": [],
   "source": [
    "def PCA(D,alpha):\n",
    "    dim_array= np.empty((1,len(alpha)))\n",
    "    proj_mat = []\n",
    "    #calculate mean compute mean of each col\n",
    "    mu_mat = np.mean(D,axis=0)\n",
    "    #center data\n",
    "    Z = D-mu_mat\n",
    "    #calculate cov_matrix    \n",
    "    #rowvar=False cols represente variables (defalut rows rep variables\n",
    "    #bias=True    Normalize by N\n",
    "    cov = np.cov(Z,rowvar=False,bias=True)\n",
    "    #calc evalu & evec\n",
    "    evalu,evec = LA.eig(cov)\n",
    "    #sort evalu,evec \n",
    "    indx = evalu.argsort()[::-1]#return indeces of evalu sorted in descending order\n",
    "    evalu = evalu[indx]\n",
    "    evec = evec[:,indx]\n",
    "    \n",
    "    #calculating dims needed for alpha\n",
    "    \n",
    "    for i in range(len(alpha)):\n",
    "        dim_array[0,i] = int(comp_Dims(evalu,alpha[i]))\n",
    "    #calc projection matrecies\n",
    "    for i in range(len(dim_array[0])):\n",
    "        proj_mat.append(evec[:,0:int(dim_array[0,i])]) \n",
    "    return proj_mat"
   ]
  },
  {
   "cell_type": "code",
   "execution_count": 11,
   "metadata": {},
   "outputs": [],
   "source": [
    "proj_mat = PCA(train_img,alpha)"
   ]
  },
  {
   "cell_type": "markdown",
   "metadata": {},
   "source": [
    "# projecting data on the new projection matrix #"
   ]
  },
  {
   "cell_type": "code",
   "execution_count": 12,
   "metadata": {},
   "outputs": [
    {
     "name": "stdout",
     "output_type": "stream",
     "text": [
      "(38, 200) (54, 200) (78, 200) (117, 200)\n",
      "(38, 200) (54, 200) (78, 200) (117, 200)\n"
     ]
    }
   ],
   "source": [
    "Z_train = train_img - np.mean(train_img,axis=0)\n",
    "Z_test = test_img - np.mean(test_img,axis=0)\n",
    "\n",
    "rd1_train= (proj_mat[0].T @ Z_train.T)\n",
    "rd2_train= (proj_mat[1].T @ Z_train.T)\n",
    "rd3_train= (proj_mat[2].T @ Z_train.T)\n",
    "rd4_train= (proj_mat[3].T @ Z_train.T)\n",
    "print(rd1_train.shape,rd2_train.shape,rd3_train.shape,rd4_train.shape)\n",
    "rd1_test=(proj_mat[0].T @ Z_test.T)\n",
    "rd2_test=(proj_mat[1].T @ Z_test.T)\n",
    "rd3_test=(proj_mat[2].T @ Z_test.T)\n",
    "rd4_test=(proj_mat[3].T @ Z_test.T)\n",
    "print(rd1_test.shape,rd2_test.shape,rd3_test.shape,rd4_test.shape)"
   ]
  },
  {
   "cell_type": "code",
   "execution_count": 13,
   "metadata": {},
   "outputs": [],
   "source": [
    "def acc(pred,act):#dim (200,1)\n",
    "    count = 0\n",
    "    m,n = pred.shape\n",
    "    for i in range(m):\n",
    "        if pred[i,0] == act[i,0]:\n",
    "            count+=1\n",
    "    return (count/m)*100"
   ]
  },
  {
   "cell_type": "code",
   "execution_count": 14,
   "metadata": {},
   "outputs": [
    {
     "name": "stdout",
     "output_type": "stream",
     "text": [
      "Accuracy of α=0.8 ===> 83.5%\n"
     ]
    }
   ],
   "source": [
    "acc_list = []\n",
    "#alpha = 0.8\n",
    "knn = KNN()\n",
    "knn.fit(rd1_train.real.T,train_label)\n",
    "pred = knn.predict(rd1_test.real.T)\n",
    "pred=pred.reshape(200,1)\n",
    "acc_list.append(acc(pred,test_label))\n",
    "print(f'Accuracy of α={0.8} ===> {acc(pred,test_label)}%')"
   ]
  },
  {
   "cell_type": "code",
   "execution_count": 15,
   "metadata": {},
   "outputs": [
    {
     "name": "stdout",
     "output_type": "stream",
     "text": [
      "Accuracy of α=0.85 ===> 84.5%\n"
     ]
    }
   ],
   "source": [
    "#alpha = 0.85\n",
    "knn.fit(rd2_train.real.T,train_label)\n",
    "pred = knn.predict(rd2_test.real.T)\n",
    "pred=pred.reshape(200,1)\n",
    "acc_list.append(acc(pred,test_label))\n",
    "print(f'Accuracy of α={0.85} ===> {acc(pred,test_label)}%')"
   ]
  },
  {
   "cell_type": "code",
   "execution_count": 16,
   "metadata": {},
   "outputs": [
    {
     "name": "stdout",
     "output_type": "stream",
     "text": [
      "Accuracy of α=0.9 ===> 83.5%\n"
     ]
    }
   ],
   "source": [
    "#alpha = 0.9\n",
    "knn.fit(rd3_train.real.T,train_label)\n",
    "pred = knn.predict(rd3_test.real.T)\n",
    "pred=pred.reshape(200,1)\n",
    "acc_list.append(acc(pred,test_label))\n",
    "print(f'Accuracy of α={0.9} ===> {acc(pred,test_label)}%')"
   ]
  },
  {
   "cell_type": "code",
   "execution_count": 17,
   "metadata": {},
   "outputs": [
    {
     "name": "stdout",
     "output_type": "stream",
     "text": [
      "Accuracy of α=0.95 ===> 83.5%\n"
     ]
    }
   ],
   "source": [
    "#alpha = 0.95\n",
    "knn.fit(rd4_train.real.T,train_label)\n",
    "pred = knn.predict(rd4_test.real.T)\n",
    "pred=pred.reshape(200,1)\n",
    "acc_list.append(acc(pred,test_label))\n",
    "print(f'Accuracy of α={0.95} ===> {acc(pred,test_label)}%')"
   ]
  },
  {
   "cell_type": "code",
   "execution_count": 18,
   "metadata": {},
   "outputs": [
    {
     "data": {
      "text/plain": [
       "<function matplotlib.pyplot.show(close=None, block=None)>"
      ]
     },
     "execution_count": 18,
     "metadata": {},
     "output_type": "execute_result"
    },
    {
     "data": {
      "image/png": "[encoded data removed]",
      "text/plain": [
       "<Figure size 432x288 with 1 Axes>"
      ]
     },
     "metadata": {
      "needs_background": "light"
     },
     "output_type": "display_data"
    }
   ],
   "source": [
    "plt.plot(alpha,acc_list)\n",
    "plt.ylabel('Accuracy')\n",
    "plt.xlabel('alpha')\n",
    "plt.show"
   ]
  },
  {
   "cell_type": "markdown",
   "metadata": {},
   "source": [
    "### The accuracy increases with alpha until reaching a certain threshold then it starts to decrease again ### "
   ]
  },
  {
   "cell_type": "markdown",
   "metadata": {},
   "source": [
    "# KNN #"
   ]
  },
  {
   "cell_type": "code",
   "execution_count": 19,
   "metadata": {},
   "outputs": [
    {
     "name": "stdout",
     "output_type": "stream",
     "text": [
      "Accuracy of neighbors:1 ===> 94.5%\n"
     ]
    }
   ],
   "source": [
    "#n = 1\n",
    "acc_list1 = []\n",
    "knn = KNN(n_neighbors=1)\n",
    "knn.fit(train_img,train_label)\n",
    "pred = knn.predict(test_img)\n",
    "pred=pred.reshape(200,1)\n",
    "acc_list1.append(acc(pred,test_label))\n",
    "print(f'Accuracy of neighbors:{1} ===> {acc(pred,test_label)}%')"
   ]
  },
  {
   "cell_type": "code",
   "execution_count": 20,
   "metadata": {},
   "outputs": [
    {
     "name": "stdout",
     "output_type": "stream",
     "text": [
      "Accuracy of neighbors:3 ===> 88.0%\n"
     ]
    }
   ],
   "source": [
    "# n = 3\n",
    "knn = KNN(n_neighbors=3)\n",
    "knn.fit(train_img,train_label)\n",
    "pred = knn.predict(test_img)\n",
    "pred=pred.reshape(200,1)\n",
    "acc_list1.append(acc(pred,test_label))\n",
    "print(f'Accuracy of neighbors:{3} ===> {acc(pred,test_label)}%')"
   ]
  },
  {
   "cell_type": "code",
   "execution_count": 21,
   "metadata": {},
   "outputs": [
    {
     "name": "stdout",
     "output_type": "stream",
     "text": [
      "Accuracy of neighbors:1 ===> 83.5%\n"
     ]
    }
   ],
   "source": [
    "# n = 5\n",
    "knn = KNN(n_neighbors=5)\n",
    "knn.fit(train_img,train_label)\n",
    "pred = knn.predict(test_img)\n",
    "pred=pred.reshape(200,1)\n",
    "acc_list1.append(acc(pred,test_label))\n",
    "print(f'Accuracy of neighbors:{1} ===> {acc(pred,test_label)}%')"
   ]
  },
  {
   "cell_type": "code",
   "execution_count": 22,
   "metadata": {},
   "outputs": [
    {
     "name": "stdout",
     "output_type": "stream",
     "text": [
      "Accuracy of neighbors:1 ===> 77.5%\n"
     ]
    }
   ],
   "source": [
    "# n = 7\n",
    "knn = KNN(n_neighbors=7)\n",
    "knn.fit(train_img,train_label)\n",
    "pred = knn.predict(test_img)\n",
    "pred=pred.reshape(200,1)\n",
    "acc_list1.append(acc(pred,test_label))\n",
    "print(f'Accuracy of neighbors:{1} ===> {acc(pred,test_label)}%')"
   ]
  },
  {
   "cell_type": "code",
   "execution_count": 23,
   "metadata": {},
   "outputs": [
    {
     "data": {
      "text/plain": [
       "<function matplotlib.pyplot.show(close=None, block=None)>"
      ]
     },
     "execution_count": 23,
     "metadata": {},
     "output_type": "execute_result"
    },
    {
     "data": {
      "image/png": "[encoded data removed]",
      "text/plain": [
       "<Figure size 432x288 with 1 Axes>"
      ]
     },
     "metadata": {
      "needs_background": "light"
     },
     "output_type": "display_data"
    }
   ],
   "source": [
    "plt.plot(acc_list1,[1,3,5,7])\n",
    "plt.ylabel('Accuracy')\n",
    "plt.xlabel('Neighbour')\n",
    "plt.show"
   ]
  },
  {
   "cell_type": "markdown",
   "metadata": {},
   "source": [
    "# Bonus"
   ]
  },
  {
   "cell_type": "code",
   "execution_count": 24,
   "metadata": {
    "collapsed": true
   },
   "outputs": [
    {
     "data": {
      "text/plain": [
       "array([['S1'],\n",
       "       ['S1'],\n",
       "       ['S1'],\n",
       "       ['S1'],\n",
       "       ['S1'],\n",
       "       ['S1'],\n",
       "       ['S1'],\n",
       "       ['S1'],\n",
       "       ['S1'],\n",
       "       ['S1'],\n",
       "       ['S2'],\n",
       "       ['S2'],\n",
       "       ['S2'],\n",
       "       ['S2'],\n",
       "       ['S2'],\n",
       "       ['S2'],\n",
       "       ['S2'],\n",
       "       ['S2'],\n",
       "       ['S2'],\n",
       "       ['S2'],\n",
       "       ['S3'],\n",
       "       ['S3'],\n",
       "       ['S3'],\n",
       "       ['S3'],\n",
       "       ['S3'],\n",
       "       ['S3'],\n",
       "       ['S3'],\n",
       "       ['S3'],\n",
       "       ['S3'],\n",
       "       ['S3'],\n",
       "       ['S4'],\n",
       "       ['S4'],\n",
       "       ['S4'],\n",
       "       ['S4'],\n",
       "       ['S4'],\n",
       "       ['S4'],\n",
       "       ['S4'],\n",
       "       ['S4'],\n",
       "       ['S4'],\n",
       "       ['S4'],\n",
       "       ['S5'],\n",
       "       ['S5'],\n",
       "       ['S5'],\n",
       "       ['S5'],\n",
       "       ['S5'],\n",
       "       ['S5'],\n",
       "       ['S5'],\n",
       "       ['S5'],\n",
       "       ['S5'],\n",
       "       ['S5'],\n",
       "       ['S6'],\n",
       "       ['S6'],\n",
       "       ['S6'],\n",
       "       ['S6'],\n",
       "       ['S6'],\n",
       "       ['S6'],\n",
       "       ['S6'],\n",
       "       ['S6'],\n",
       "       ['S6'],\n",
       "       ['S6'],\n",
       "       ['S7'],\n",
       "       ['S7'],\n",
       "       ['S7'],\n",
       "       ['S7'],\n",
       "       ['S7'],\n",
       "       ['S7'],\n",
       "       ['S7'],\n",
       "       ['S7'],\n",
       "       ['S7'],\n",
       "       ['S7'],\n",
       "       ['S8'],\n",
       "       ['S8'],\n",
       "       ['S8'],\n",
       "       ['S8'],\n",
       "       ['S8'],\n",
       "       ['S8'],\n",
       "       ['S8'],\n",
       "       ['S8'],\n",
       "       ['S8'],\n",
       "       ['S8'],\n",
       "       ['S9'],\n",
       "       ['S9'],\n",
       "       ['S9'],\n",
       "       ['S9'],\n",
       "       ['S9'],\n",
       "       ['S9'],\n",
       "       ['S9'],\n",
       "       ['S9'],\n",
       "       ['S9'],\n",
       "       ['S9'],\n",
       "       ['S10'],\n",
       "       ['S10'],\n",
       "       ['S10'],\n",
       "       ['S10'],\n",
       "       ['S10'],\n",
       "       ['S10'],\n",
       "       ['S10'],\n",
       "       ['S10'],\n",
       "       ['S10'],\n",
       "       ['S10'],\n",
       "       ['S11'],\n",
       "       ['S11'],\n",
       "       ['S11'],\n",
       "       ['S11'],\n",
       "       ['S11'],\n",
       "       ['S11'],\n",
       "       ['S11'],\n",
       "       ['S11'],\n",
       "       ['S11'],\n",
       "       ['S11'],\n",
       "       ['S12'],\n",
       "       ['S12'],\n",
       "       ['S12'],\n",
       "       ['S12'],\n",
       "       ['S12'],\n",
       "       ['S12'],\n",
       "       ['S12'],\n",
       "       ['S12'],\n",
       "       ['S12'],\n",
       "       ['S12'],\n",
       "       ['S13'],\n",
       "       ['S13'],\n",
       "       ['S13'],\n",
       "       ['S13'],\n",
       "       ['S13'],\n",
       "       ['S13'],\n",
       "       ['S13'],\n",
       "       ['S13'],\n",
       "       ['S13'],\n",
       "       ['S13'],\n",
       "       ['S14'],\n",
       "       ['S14'],\n",
       "       ['S14'],\n",
       "       ['S14'],\n",
       "       ['S14'],\n",
       "       ['S14'],\n",
       "       ['S14'],\n",
       "       ['S14'],\n",
       "       ['S14'],\n",
       "       ['S14'],\n",
       "       ['S15'],\n",
       "       ['S15'],\n",
       "       ['S15'],\n",
       "       ['S15'],\n",
       "       ['S15'],\n",
       "       ['S15'],\n",
       "       ['S15'],\n",
       "       ['S15'],\n",
       "       ['S15'],\n",
       "       ['S15'],\n",
       "       ['S16'],\n",
       "       ['S16'],\n",
       "       ['S16'],\n",
       "       ['S16'],\n",
       "       ['S16'],\n",
       "       ['S16'],\n",
       "       ['S16'],\n",
       "       ['S16'],\n",
       "       ['S16'],\n",
       "       ['S16'],\n",
       "       ['S17'],\n",
       "       ['S17'],\n",
       "       ['S17'],\n",
       "       ['S17'],\n",
       "       ['S17'],\n",
       "       ['S17'],\n",
       "       ['S17'],\n",
       "       ['S17'],\n",
       "       ['S17'],\n",
       "       ['S17'],\n",
       "       ['S18'],\n",
       "       ['S18'],\n",
       "       ['S18'],\n",
       "       ['S18'],\n",
       "       ['S18'],\n",
       "       ['S18'],\n",
       "       ['S18'],\n",
       "       ['S18'],\n",
       "       ['S18'],\n",
       "       ['S18'],\n",
       "       ['S19'],\n",
       "       ['S19'],\n",
       "       ['S19'],\n",
       "       ['S19'],\n",
       "       ['S19'],\n",
       "       ['S19'],\n",
       "       ['S19'],\n",
       "       ['S19'],\n",
       "       ['S19'],\n",
       "       ['S19'],\n",
       "       ['S20'],\n",
       "       ['S20'],\n",
       "       ['S20'],\n",
       "       ['S20'],\n",
       "       ['S20'],\n",
       "       ['S20'],\n",
       "       ['S20'],\n",
       "       ['S20'],\n",
       "       ['S20'],\n",
       "       ['S20'],\n",
       "       ['S21'],\n",
       "       ['S21'],\n",
       "       ['S21'],\n",
       "       ['S21'],\n",
       "       ['S21'],\n",
       "       ['S21'],\n",
       "       ['S21'],\n",
       "       ['S21'],\n",
       "       ['S21'],\n",
       "       ['S21'],\n",
       "       ['S22'],\n",
       "       ['S22'],\n",
       "       ['S22'],\n",
       "       ['S22'],\n",
       "       ['S22'],\n",
       "       ['S22'],\n",
       "       ['S22'],\n",
       "       ['S22'],\n",
       "       ['S22'],\n",
       "       ['S22'],\n",
       "       ['S23'],\n",
       "       ['S23'],\n",
       "       ['S23'],\n",
       "       ['S23'],\n",
       "       ['S23'],\n",
       "       ['S23'],\n",
       "       ['S23'],\n",
       "       ['S23'],\n",
       "       ['S23'],\n",
       "       ['S23'],\n",
       "       ['S24'],\n",
       "       ['S24'],\n",
       "       ['S24'],\n",
       "       ['S24'],\n",
       "       ['S24'],\n",
       "       ['S24'],\n",
       "       ['S24'],\n",
       "       ['S24'],\n",
       "       ['S24'],\n",
       "       ['S24'],\n",
       "       ['S25'],\n",
       "       ['S25'],\n",
       "       ['S25'],\n",
       "       ['S25'],\n",
       "       ['S25'],\n",
       "       ['S25'],\n",
       "       ['S25'],\n",
       "       ['S25'],\n",
       "       ['S25'],\n",
       "       ['S25'],\n",
       "       ['S26'],\n",
       "       ['S26'],\n",
       "       ['S26'],\n",
       "       ['S26'],\n",
       "       ['S26'],\n",
       "       ['S26'],\n",
       "       ['S26'],\n",
       "       ['S26'],\n",
       "       ['S26'],\n",
       "       ['S26'],\n",
       "       ['S27'],\n",
       "       ['S27'],\n",
       "       ['S27'],\n",
       "       ['S27'],\n",
       "       ['S27'],\n",
       "       ['S27'],\n",
       "       ['S27'],\n",
       "       ['S27'],\n",
       "       ['S27'],\n",
       "       ['S27'],\n",
       "       ['S28'],\n",
       "       ['S28'],\n",
       "       ['S28'],\n",
       "       ['S28'],\n",
       "       ['S28'],\n",
       "       ['S28'],\n",
       "       ['S28'],\n",
       "       ['S28'],\n",
       "       ['S28'],\n",
       "       ['S28'],\n",
       "       ['S29'],\n",
       "       ['S29'],\n",
       "       ['S29'],\n",
       "       ['S29'],\n",
       "       ['S29'],\n",
       "       ['S29'],\n",
       "       ['S29'],\n",
       "       ['S29'],\n",
       "       ['S29'],\n",
       "       ['S29'],\n",
       "       ['S30'],\n",
       "       ['S30'],\n",
       "       ['S30'],\n",
       "       ['S30'],\n",
       "       ['S30'],\n",
       "       ['S30'],\n",
       "       ['S30'],\n",
       "       ['S30'],\n",
       "       ['S30'],\n",
       "       ['S30'],\n",
       "       ['S31'],\n",
       "       ['S31'],\n",
       "       ['S31'],\n",
       "       ['S31'],\n",
       "       ['S31'],\n",
       "       ['S31'],\n",
       "       ['S31'],\n",
       "       ['S31'],\n",
       "       ['S31'],\n",
       "       ['S31'],\n",
       "       ['S32'],\n",
       "       ['S32'],\n",
       "       ['S32'],\n",
       "       ['S32'],\n",
       "       ['S32'],\n",
       "       ['S32'],\n",
       "       ['S32'],\n",
       "       ['S32'],\n",
       "       ['S32'],\n",
       "       ['S32'],\n",
       "       ['S33'],\n",
       "       ['S33'],\n",
       "       ['S33'],\n",
       "       ['S33'],\n",
       "       ['S33'],\n",
       "       ['S33'],\n",
       "       ['S33'],\n",
       "       ['S33'],\n",
       "       ['S33'],\n",
       "       ['S33'],\n",
       "       ['S34'],\n",
       "       ['S34'],\n",
       "       ['S34'],\n",
       "       ['S34'],\n",
       "       ['S34'],\n",
       "       ['S34'],\n",
       "       ['S34'],\n",
       "       ['S34'],\n",
       "       ['S34'],\n",
       "       ['S34'],\n",
       "       ['S35'],\n",
       "       ['S35'],\n",
       "       ['S35'],\n",
       "       ['S35'],\n",
       "       ['S35'],\n",
       "       ['S35'],\n",
       "       ['S35'],\n",
       "       ['S35'],\n",
       "       ['S35'],\n",
       "       ['S35'],\n",
       "       ['S36'],\n",
       "       ['S36'],\n",
       "       ['S36'],\n",
       "       ['S36'],\n",
       "       ['S36'],\n",
       "       ['S36'],\n",
       "       ['S36'],\n",
       "       ['S36'],\n",
       "       ['S36'],\n",
       "       ['S36'],\n",
       "       ['S37'],\n",
       "       ['S37'],\n",
       "       ['S37'],\n",
       "       ['S37'],\n",
       "       ['S37'],\n",
       "       ['S37'],\n",
       "       ['S37'],\n",
       "       ['S37'],\n",
       "       ['S37'],\n",
       "       ['S37'],\n",
       "       ['S38'],\n",
       "       ['S38'],\n",
       "       ['S38'],\n",
       "       ['S38'],\n",
       "       ['S38'],\n",
       "       ['S38'],\n",
       "       ['S38'],\n",
       "       ['S38'],\n",
       "       ['S38'],\n",
       "       ['S38'],\n",
       "       ['S39'],\n",
       "       ['S39'],\n",
       "       ['S39'],\n",
       "       ['S39'],\n",
       "       ['S39'],\n",
       "       ['S39'],\n",
       "       ['S39'],\n",
       "       ['S39'],\n",
       "       ['S39'],\n",
       "       ['S39'],\n",
       "       ['S40'],\n",
       "       ['S40'],\n",
       "       ['S40'],\n",
       "       ['S40'],\n",
       "       ['S40'],\n",
       "       ['S40'],\n",
       "       ['S40'],\n",
       "       ['S40'],\n",
       "       ['S40'],\n",
       "       ['S40']], dtype='<U3')"
      ]
     },
     "execution_count": 24,
     "metadata": {},
     "output_type": "execute_result"
    }
   ],
   "source": [
    "l=[]\n",
    "for i in range(1,41):\n",
    "    for j in range(1,11):\n",
    "        l.append('S'+str(i))\n",
    "nlabel= np.array(l).reshape(400,1)\n",
    "nlabel"
   ]
  },
  {
   "cell_type": "code",
   "execution_count": 25,
   "metadata": {},
   "outputs": [],
   "source": [
    "nx_train,nx_test,ny_train,ny_test = train_test_split(img_matrix,nlabel, test_size=0.3, random_state=42)"
   ]
  },
  {
   "cell_type": "code",
   "execution_count": 26,
   "metadata": {},
   "outputs": [
    {
     "data": {
      "text/plain": [
       "((280, 10304), (120, 10304), (280, 1), (120, 1))"
      ]
     },
     "execution_count": 26,
     "metadata": {},
     "output_type": "execute_result"
    }
   ],
   "source": [
    "nx_train.shape,nx_test.shape,ny_train.shape,ny_test.shape"
   ]
  },
  {
   "cell_type": "code",
   "execution_count": 27,
   "metadata": {},
   "outputs": [],
   "source": [
    "n_proj = PCA(nx_train,alpha)"
   ]
  },
  {
   "cell_type": "code",
   "execution_count": 28,
   "metadata": {},
   "outputs": [
    {
     "name": "stdout",
     "output_type": "stream",
     "text": [
      "(43, 280) (63, 280) (96, 280) (152, 280)\n",
      "(43, 120) (63, 120) (96, 120) (152, 120)\n"
     ]
    }
   ],
   "source": [
    "Z_train = nx_train - np.mean(nx_train,axis=0)\n",
    "Z_test = nx_test - np.mean(nx_test,axis=0)\n",
    "\n",
    "rd1_train= (n_proj[0].T @ Z_train.T)\n",
    "rd2_train= (n_proj[1].T @ Z_train.T)\n",
    "rd3_train= (n_proj[2].T @ Z_train.T)\n",
    "rd4_train= (n_proj[3].T @ Z_train.T)\n",
    "print(rd1_train.shape,rd2_train.shape,rd3_train.shape,rd4_train.shape)\n",
    "rd1_test=(n_proj[0].T @ Z_test.T)\n",
    "rd2_test=(n_proj[1].T @ Z_test.T)\n",
    "rd3_test=(n_proj[2].T @ Z_test.T)\n",
    "rd4_test=(n_proj[3].T @ Z_test.T)\n",
    "print(rd1_test.shape,rd2_test.shape,rd3_test.shape,rd4_test.shape)"
   ]
  },
  {
   "cell_type": "code",
   "execution_count": 30,
   "metadata": {},
   "outputs": [
    {
     "name": "stdout",
     "output_type": "stream",
     "text": [
      "Accuracy of α=0.8 ===> 94.16666666666667%\n"
     ]
    }
   ],
   "source": [
    "#alpha = 0.8\n",
    "acc_list1 = []\n",
    "svc = SVC()\n",
    "svc.fit(rd1_train.real.T,ny_train)\n",
    "pred = svc.predict(rd1_test.real.T)\n",
    "pred=pred.reshape(120,1)\n",
    "acc_list1.append(acc(pred,ny_test))\n",
    "print(f'Accuracy of α={0.8} ===> {acc(pred,ny_test)}%')"
   ]
  },
  {
   "cell_type": "code",
   "execution_count": 31,
   "metadata": {},
   "outputs": [
    {
     "name": "stdout",
     "output_type": "stream",
     "text": [
      "Accuracy of α=0.85 ===> 94.16666666666667%\n"
     ]
    }
   ],
   "source": [
    "#alpha = 0.85\n",
    "svc = SVC()\n",
    "svc.fit(rd2_train.real.T,ny_train)\n",
    "pred = svc.predict(rd2_test.real.T)\n",
    "pred=pred.reshape(120,1)\n",
    "acc_list1.append(acc(pred,ny_test))\n",
    "print(f'Accuracy of α={0.85} ===> {acc(pred,ny_test)}%')"
   ]
  },
  {
   "cell_type": "code",
   "execution_count": 32,
   "metadata": {},
   "outputs": [
    {
     "name": "stdout",
     "output_type": "stream",
     "text": [
      "Accuracy of α=0.9 ===> 94.16666666666667%\n"
     ]
    }
   ],
   "source": [
    "svc = SVC()\n",
    "svc.fit(rd3_train.real.T,ny_train)\n",
    "pred = svc.predict(rd3_test.real.T)\n",
    "pred = pred.reshape(120,1)\n",
    "acc_list1.append(acc(pred,ny_test))\n",
    "print(f'Accuracy of α={0.9} ===> {acc(pred,ny_test)}%')"
   ]
  },
  {
   "cell_type": "code",
   "execution_count": 33,
   "metadata": {},
   "outputs": [
    {
     "name": "stdout",
     "output_type": "stream",
     "text": [
      "Accuracy of α=0.95 ===> 93.33333333333333%\n"
     ]
    }
   ],
   "source": [
    "svc = SVC()\n",
    "svc.fit(rd4_train.real.T,ny_train)\n",
    "pred = svc.predict(rd4_test.real.T)\n",
    "pred = pred.reshape(120,1)\n",
    "acc_list1.append(acc(pred,ny_test))\n",
    "print(f'Accuracy of α={0.95} ===> {acc(pred,ny_test)}%')"
   ]
  },
  {
   "cell_type": "code",
   "execution_count": 35,
   "metadata": {},
   "outputs": [
    {
     "data": {
      "text/plain": [
       "<function matplotlib.pyplot.show(close=None, block=None)>"
      ]
     },
     "execution_count": 35,
     "metadata": {},
     "output_type": "execute_result"
    },
    {
     "data": {
      "image/png": "[encoded data removed]",
      "text/plain": [
       "<Figure size 432x288 with 1 Axes>"
      ]
     },
     "metadata": {
      "needs_background": "light"
     },
     "output_type": "display_data"
    }
   ],
   "source": [
    "plt.plot(alpha,acc_list1)\n",
    "plt.show"
   ]
  },
  {
   "cell_type": "markdown",
   "metadata": {},
   "source": [
    "## The results of the SVC model are significantly better than KNN model"
   ]
  }
 ],
 "metadata": {
  "kernelspec": {
   "display_name": "Python 3",
   "language": "python",
   "name": "python3"
  },
  "language_info": {
   "codemirror_mode": {
    "name": "ipython",
    "version": 3
   },
   "file_extension": ".py",
   "mimetype": "text/x-python",
   "name": "python",
   "nbconvert_exporter": "python",
   "pygments_lexer": "ipython3",
   "version": "3.8.5"
  }
 },
 "nbformat": 4,
 "nbformat_minor": 4
}
